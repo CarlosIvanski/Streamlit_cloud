{
 "cells": [
  {
   "cell_type": "code",
   "execution_count": 1,
   "metadata": {},
   "outputs": [],
   "source": [
    "import pandas as pd\n",
    "import numpy as np\n",
    "import random"
   ]
  },
  {
   "cell_type": "code",
   "execution_count": 2,
   "metadata": {},
   "outputs": [],
   "source": [
    "aulas = pd.read_excel('/home/cayena/Downloads/planilha_teste_thefamily.xlsx')"
   ]
  },
  {
   "cell_type": "code",
   "execution_count": 3,
   "metadata": {},
   "outputs": [],
   "source": [
    "aulas['Horário'] = aulas['Horário'].astype(str)"
   ]
  },
  {
   "cell_type": "code",
   "execution_count": 4,
   "metadata": {},
   "outputs": [],
   "source": [
    "aulas['segunda'] = aulas['Dias da Semana'].str.contains('2ª').astype(int)\n",
    "aulas['terça'] = aulas['Dias da Semana'].str.contains('3ª').astype(int)\n",
    "aulas['quarta'] = aulas['Dias da Semana'].str.contains('4ª').astype(int)\n",
    "aulas['quinta'] = aulas['Dias da Semana'].str.contains('5ª').astype(int)"
   ]
  },
  {
   "cell_type": "code",
   "execution_count": 5,
   "metadata": {},
   "outputs": [],
   "source": [
    "df_horarios = aulas['Horário'].str.get_dummies()\n",
    "df_unidade = aulas['Unidade'].str.get_dummies()"
   ]
  },
  {
   "cell_type": "code",
   "execution_count": 6,
   "metadata": {},
   "outputs": [],
   "source": [
    "aulas_geral = pd.concat([aulas, df_horarios,df_unidade], axis=1)"
   ]
  },
  {
   "cell_type": "code",
   "execution_count": 7,
   "metadata": {},
   "outputs": [],
   "source": [
    "grupo_semana = aulas_geral[['Grupo', 'segunda', 'terça', 'quarta', 'quinta']].copy()\n",
    "grupo_horario = aulas_geral.drop(columns=[ 'Horário', 'Unidade', 'Dias da Semana','segunda', 'terça', 'quarta', 'quinta', 'Jardim', 'Satélite', 'Vicentina']).copy()\n",
    "grupo_loc = aulas_geral[['Grupo', 'Jardim','Satélite','Vicentina']].copy()"
   ]
  },
  {
   "cell_type": "code",
   "execution_count": 8,
   "metadata": {},
   "outputs": [
    {
     "data": {
      "text/plain": [
       "(16, 1)"
      ]
     },
     "execution_count": 8,
     "metadata": {},
     "output_type": "execute_result"
    }
   ],
   "source": [
    "Professores = {'Name':['Allan','Carlos','Henrique','Yasmin','Malu','Tanze','Okamoto','Edu','Wolf','Odin','Renan','Gabiraes','Nicolas','Novaes','Jorge','Kaori']}\n",
    "profes = pd.DataFrame(Professores)\n",
    "profes.shape"
   ]
  },
  {
   "cell_type": "code",
   "execution_count": 9,
   "metadata": {},
   "outputs": [],
   "source": [
    "# sortear uma aula para cada professor\n",
    "# usar a função de minimizar para completar os horarios e turmas restantes"
   ]
  },
  {
   "cell_type": "code",
   "execution_count": 10,
   "metadata": {},
   "outputs": [],
   "source": [
    "aulas_segunda = aulas_geral[aulas_geral['segunda'] == 1].copy()"
   ]
  },
  {
   "cell_type": "code",
   "execution_count": 11,
   "metadata": {},
   "outputs": [],
   "source": [
    "from ortools.sat.python import cp_model"
   ]
  },
  {
   "cell_type": "code",
   "execution_count": 16,
   "metadata": {},
   "outputs": [],
   "source": [
    "all_teacher = profes['Name'].to_list()\n",
    "all_time = aulas_segunda['Horário'].to_list()\n",
    "\n",
    "model = cp_model.CpModel()\n",
    "\n",
    "shifts = {}\n",
    "for i in all_teacher:\n",
    "    for j in all_time:\n",
    "        shifts[(i, j)] = model.NewBoolVar(f\"{i}_converinglesson_{j}\")\n",
    "\n",
    "for j in all_time:\n",
    "    model.Add(sum(shifts[(i, j)] for i in all_teacher) == 1)\n",
    "\n",
    "solver = cp_model.CpSolver()\n",
    "status = solver.Solve(model)"
   ]
  },
  {
   "cell_type": "code",
   "execution_count": 18,
   "metadata": {},
   "outputs": [
    {
     "name": "stdout",
     "output_type": "stream",
     "text": [
      "Nenhuma solução viável encontrada.\n"
     ]
    }
   ],
   "source": [
    "if status == cp_model.FEASIBLE:\n",
    "    print(\"Solução encontrada!\")\n",
    "    \n",
    "    # Iterando sobre os professores e horários e exibindo as alocações\n",
    "    for j in all_time:\n",
    "        for i in all_teacher:\n",
    "            if solver.Value(shifts[(i, j)]) == 1:\n",
    "                print(f\"Professor {i} foi alocado para o horário {j}\")\n",
    "else:\n",
    "    print(\"Nenhuma solução viável encontrada.\")"
   ]
  },
  {
   "cell_type": "code",
   "execution_count": 15,
   "metadata": {},
   "outputs": [
    {
     "data": {
      "text/plain": [
       "19:00:00    16\n",
       "18:00:00     9\n",
       "20:00:00     6\n",
       "08:00:00     5\n",
       "16:00:00     4\n",
       "14:00:00     2\n",
       "09:00:00     2\n",
       "17:00:00     2\n",
       "07:00:00     1\n",
       "12:00:00     1\n",
       "20:30:00     1\n",
       "15:00:00     1\n",
       "Name: Horário, dtype: int64"
      ]
     },
     "execution_count": 15,
     "metadata": {},
     "output_type": "execute_result"
    }
   ],
   "source": [
    "aulas_segunda['Horário'].value_counts()"
   ]
  }
 ],
 "metadata": {
  "kernelspec": {
   "display_name": "Python 3",
   "language": "python",
   "name": "python3"
  },
  "language_info": {
   "codemirror_mode": {
    "name": "ipython",
    "version": 3
   },
   "file_extension": ".py",
   "mimetype": "text/x-python",
   "name": "python",
   "nbconvert_exporter": "python",
   "pygments_lexer": "ipython3",
   "version": "3.10.12"
  }
 },
 "nbformat": 4,
 "nbformat_minor": 2
}
