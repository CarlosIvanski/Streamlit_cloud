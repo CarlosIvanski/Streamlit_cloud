{
 "cells": [
  {
   "cell_type": "code",
   "execution_count": 1,
   "metadata": {},
   "outputs": [],
   "source": [
    "import pandas as pd\n",
    "import numpy as np\n",
    "import random\n",
    "from ortools.sat.python import cp_model"
   ]
  },
  {
   "cell_type": "code",
   "execution_count": 2,
   "metadata": {},
   "outputs": [],
   "source": [
    "aulas = pd.read_excel('/home/cayena/Downloads/planilha_teste_thefamily.xlsx')"
   ]
  },
  {
   "cell_type": "code",
   "execution_count": 3,
   "metadata": {},
   "outputs": [],
   "source": [
    "aulas['Horário'] = aulas['Horário'].astype(str)"
   ]
  },
  {
   "cell_type": "code",
   "execution_count": 4,
   "metadata": {},
   "outputs": [],
   "source": [
    "aulas['segunda'] = aulas['Dias da Semana'].str.contains('2ª').astype(int)\n",
    "aulas['terça'] = aulas['Dias da Semana'].str.contains('3ª').astype(int)\n",
    "aulas['quarta'] = aulas['Dias da Semana'].str.contains('4ª').astype(int)\n",
    "aulas['quinta'] = aulas['Dias da Semana'].str.contains('5ª').astype(int)"
   ]
  },
  {
   "cell_type": "code",
   "execution_count": 5,
   "metadata": {},
   "outputs": [],
   "source": [
    "df_horarios = aulas['Horário'].str.get_dummies()\n",
    "df_unidade = aulas['Unidade'].str.get_dummies()"
   ]
  },
  {
   "cell_type": "code",
   "execution_count": 6,
   "metadata": {},
   "outputs": [],
   "source": [
    "aulas_geral = pd.concat([aulas, df_horarios,df_unidade], axis=1)"
   ]
  },
  {
   "cell_type": "code",
   "execution_count": 7,
   "metadata": {},
   "outputs": [],
   "source": [
    "grupo_semana = aulas_geral[['Grupo', 'segunda', 'terça', 'quarta', 'quinta']].copy()\n",
    "grupo_horario = aulas_geral.drop(columns=[ 'Horário', 'Unidade', 'Dias da Semana','segunda', 'terça', 'quarta', 'quinta', 'Jardim', 'Satélite', 'Vicentina']).copy()\n",
    "grupo_loc = aulas_geral[['Grupo', 'Jardim','Satélite','Vicentina']].copy()"
   ]
  },
  {
   "cell_type": "code",
   "execution_count": 8,
   "metadata": {},
   "outputs": [
    {
     "data": {
      "text/plain": [
       "(16, 1)"
      ]
     },
     "execution_count": 8,
     "metadata": {},
     "output_type": "execute_result"
    }
   ],
   "source": [
    "Professores = {'Name':['Allan','Carlos','Henrique','Yasmin','Malu','Tanze','Okamoto','Edu','Wolf','Odin','Renan','Gabiraes','Nicolas','Novaes','Jorge','Kaori']}\n",
    "profes = pd.DataFrame(Professores)\n",
    "profes.shape"
   ]
  },
  {
   "cell_type": "code",
   "execution_count": 9,
   "metadata": {},
   "outputs": [],
   "source": [
    "# sortear uma aula para cada professor\n",
    "# usar a função de minimizar para completar os horarios e turmas restantes"
   ]
  },
  {
   "cell_type": "code",
   "execution_count": 9,
   "metadata": {},
   "outputs": [],
   "source": [
    "aulas_segunda = aulas_geral[aulas_geral['segunda'] == 1].copy()"
   ]
  },
  {
   "cell_type": "code",
   "execution_count": 11,
   "metadata": {},
   "outputs": [],
   "source": [
    "all_teacher = profes['Name'].to_list()\n",
    "all_group = aulas_segunda['Grupo'].to_list()"
   ]
  },
  {
   "cell_type": "code",
   "execution_count": 11,
   "metadata": {},
   "outputs": [],
   "source": [
    "all_teacher = profes['Name'].to_list()\n",
    "all_group = aulas_segunda['Grupo'].to_list()\n",
    "\n",
    "alocacoes = {}\n",
    "model = cp_model.CpModel()\n",
    "for i in all_teacher:\n",
    "    for j in all_group:\n",
    "        h = aulas_segunda.loc[aulas_segunda['Grupo'] == j, 'Horário'].values[0]\n",
    "        alocacoes[(i,j,h)] = model.NewBoolVar(f\"{i}_converinglesson_{j}_period_{h}\")\n",
    "\n",
    "for a in all_group:\n",
    "    b = aulas_segunda.loc[aulas_segunda['Grupo'] == a, 'Horário'].values[0]\n",
    "    model.Add(sum(alocacoes[(c,a,b)] for c in all_teacher) == 1)\n",
    "\n",
    "for professor in all_teacher:\n",
    "    for horario in aulas_segunda['Horário'].unique():\n",
    "        model.Add(sum(alocacoes[(professor, row['Grupo'], horario)] for _, row in aulas_segunda.iterrows() if row['Horário'] == horario) <= 1)\n",
    "\n"
   ]
  },
  {
   "cell_type": "code",
   "execution_count": 17,
   "metadata": {},
   "outputs": [
    {
     "name": "stdout",
     "output_type": "stream",
     "text": [
      "Solução encontrada!\n",
      "Allan está alocado para MBA IDEIAS EM AÇÃO no horário 19:00:00\n",
      "Allan está alocado para SAVANAH PRESENCIAL no horário 07:00:00\n",
      "Allan está alocado para FERNANDO CAJE - PRESENCIAL no horário 08:00:00\n",
      "Allan está alocado para GARLAND PRESENCIAL no horário 18:00:00\n",
      "Allan está alocado para FAIRFAX PRESENCIAL no horário 16:00:00\n",
      "Allan está alocado para DELTA PRESENCIAL no horário 12:00:00\n",
      "Allan está alocado para FALLS CHURCH PRESENCIAL no horário 20:30:00\n",
      "Allan está alocado para DERBY PRESENCIAL no horário 09:00:00\n",
      "Allan está alocado para SEATTLE PRESENCIAL no horário 15:00:00\n",
      "Allan está alocado para LANCASTER PRESENCIAL no horário 17:00:00\n",
      "Carlos está alocado para KNOXVILLE PRESENCIAL no horário 08:00:00\n",
      "Carlos está alocado para GREAT BRITAIN PRESENCIAL no horário 09:00:00\n",
      "Carlos está alocado para TAMPA PRESENCIAL no horário 19:00:00\n",
      "Carlos está alocado para CAPE COD PRESENCIAL no horário 20:00:00\n",
      "Carlos está alocado para WARRINGTON PRESENCIAL no horário 18:00:00\n",
      "Carlos está alocado para LUCAS - PRESENCIAL no horário 14:00:00\n",
      "Carlos está alocado para FLAGSTAFF PRESENCIAL no horário 17:00:00\n",
      "Henrique está alocado para MBA DAVI BRAGA no horário 14:00:00\n",
      "Henrique está alocado para BAKERSFIELD PRESENCIAL no horário 20:00:00\n",
      "Henrique está alocado para WILLIAMSBURGH PRESENCIAL no horário 19:00:00\n",
      "Henrique está alocado para RODRIGO - PRESENCIAL no horário 18:00:00\n",
      "Henrique está alocado para CHARLOTTE PRESENCIAL no horário 08:00:00\n",
      "Henrique está alocado para FELIPE - PRESENCIAL no horário 16:00:00\n",
      "Yasmin está alocado para ERILENE - PRESENCIAL/ONLINE no horário 08:00:00\n",
      "Yasmin está alocado para KIDS DONALD PRESENCIAL no horário 16:00:00\n",
      "Yasmin está alocado para NORWICH PRESENCIAL no horário 18:00:00\n",
      "Yasmin está alocado para KILDARE PRESENCIAL no horário 19:00:00\n",
      "Yasmin está alocado para HOLLYWOOD PRESENCIAL no horário 20:00:00\n",
      "Malu está alocado para KIDS MINNIE PRESENCIAL no horário 18:00:00\n",
      "Malu está alocado para SEGOVIA PRESENCIAL no horário 19:00:00\n",
      "Malu está alocado para ERIK - PRESENCIAL no horário 20:00:00\n",
      "Malu está alocado para SAN MARCOS PRESENCIAL no horário 16:00:00\n",
      "Tanze está alocado para STANFORD PRESENCIAL no horário 18:00:00\n",
      "Tanze está alocado para EDINBURGH PRESENCIAL no horário 19:00:00\n",
      "Tanze está alocado para BOULDER PRESENCIAL no horário 20:00:00\n",
      "Okamoto está alocado para CHICAGO PRESENCIAL no horário 19:00:00\n",
      "Edu está alocado para WANAKA PRESENCIAL no horário 19:00:00\n",
      "Edu está alocado para NASSAU PRESENCIAL no horário 18:00:00\n",
      "Wolf está alocado para ROUND ROCK PRESENCIAL no horário 19:00:00\n",
      "Wolf está alocado para QUEBEC PRESENCIAL no horário 20:00:00\n",
      "Odin está alocado para MEMPHIS PRESENCIAL no horário 08:00:00\n",
      "Odin está alocado para SUTTON PRESENCIAL no horário 19:00:00\n",
      "Renan está alocado para CONNECTICUT PRESENCIAL no horário 19:00:00\n",
      "Gabiraes está alocado para BROOKLYN PRESENCIAL no horário 19:00:00\n",
      "Nicolas está alocado para MBA MATRIZ no horário 19:00:00\n",
      "Novaes está alocado para WYOMING PRESENCIAL no horário 19:00:00\n",
      "Jorge está alocado para ELIANE E MARA - PRESENCIAL no horário 18:00:00\n",
      "Jorge está alocado para AUCKLAND PRESENCIAL no horário 19:00:00\n",
      "Kaori está alocado para SENEGAL PRESENCIAL no horário 19:00:00\n",
      "Kaori está alocado para BERMUDAS PRESENCIAL no horário 18:00:00\n"
     ]
    }
   ],
   "source": [
    "model = cp_model.CpModel()\n",
    "\n",
    "# Dicionário para armazenar as variáveis booleanas\n",
    "alocacoes = {}\n",
    "\n",
    "# Criar variáveis booleanas para as combinações de turma e horário existentes\n",
    "for professor in all_teacher:\n",
    "    for _, row in aulas_segunda.iterrows():\n",
    "        turma = row['Grupo']\n",
    "        horario = row['Horário']\n",
    "        \n",
    "        nome_var = f'{professor}_{turma}_{horario}'\n",
    "        alocacoes[(professor, turma, horario)] = model.NewBoolVar(nome_var)\n",
    "\n",
    "# Adicionar a restrição: um professor não pode estar em duas turmas no mesmo horário\n",
    "for _, row in aulas_segunda.iterrows():\n",
    "    turma = row['Grupo']\n",
    "    horario = row['Horário']\n",
    "    model.Add(sum(alocacoes[(professor, turma, horario)] for professor in all_teacher) == 1)\n",
    "\n",
    "# Nova restrição: um professor só pode estar em uma turma por horário\n",
    "for professor in all_teacher:\n",
    "    for horario in aulas_segunda['Horário'].unique():\n",
    "        model.Add(sum(alocacoes[(professor, row['Grupo'], horario)] for _, row in aulas_segunda.iterrows() if row['Horário'] == horario) <= 1)\n",
    "\n",
    "\n",
    "# Criar o solver e rodar o modelo\n",
    "\n",
    "solver = cp_model.CpSolver()\n",
    "status = solver.Solve(model)\n",
    "# Imprimir as alocações\n",
    "if status == cp_model.OPTIMAL or status == cp_model.FEASIBLE:\n",
    "    print(\"Solução encontrada!\")\n",
    "    \n",
    "    # Imprimir as alocações\n",
    "    for professor in all_teacher:\n",
    "        for _, row in aulas_segunda.iterrows():\n",
    "            turma = row['Grupo']\n",
    "            horario = row['Horário']# Nova restrição: um professor só pode estar em uma turma por horário\n",
    "            # Verificar se o professor foi alocado para esta turma no horário específico\n",
    "            if solver.BooleanValue(alocacoes[(professor, turma, horario)]):\n",
    "                print(f\"{professor} está alocado para {turma} no horário {horario}\")\n",
    "else:\n",
    "    print(\"Nenhuma solução viável foi encontrada.\")"
   ]
  }
 ],
 "metadata": {
  "kernelspec": {
   "display_name": "Python 3",
   "language": "python",
   "name": "python3"
  },
  "language_info": {
   "codemirror_mode": {
    "name": "ipython",
    "version": 3
   },
   "file_extension": ".py",
   "mimetype": "text/x-python",
   "name": "python",
   "nbconvert_exporter": "python",
   "pygments_lexer": "ipython3",
   "version": "3.10.12"
  }
 },
 "nbformat": 4,
 "nbformat_minor": 2
}
